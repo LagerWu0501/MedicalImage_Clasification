{
 "cells": [
  {
   "cell_type": "code",
   "execution_count": 1,
   "metadata": {},
   "outputs": [],
   "source": [
    "import torch\n",
    "import torch.nn as nn\n",
    "import torch.nn.functional as F\n",
    "import torch.optim as optim\n",
    "import torchvision\n",
    "import numpy as np\n",
    "import pandas as pd\n",
    "import matplotlib\n",
    "import csv\n",
    "import random\n",
    "from matplotlib import pyplot as plt\n",
    "from torchvision import datasets\n",
    "from torchvision import transforms\n",
    "from torchvision import models\n",
    "from torch.utils.data import  Dataset, DataLoader, ConcatDataset\n",
    "from torch.utils.data import WeightedRandomSampler\n",
    "from sklearn.metrics import roc_auc_score\n",
    "import glob"
   ]
  },
  {
   "cell_type": "code",
   "execution_count": 2,
   "metadata": {},
   "outputs": [],
   "source": [
    "seed = 10\n",
    "torch.manual_seed(seed)\n",
    "\n",
    "image_size = 200\n",
    "train_transform = transforms.Compose([\n",
    "    # transforms.Resize((image_size,image_size)),\n",
    "    # transforms.RandomAffine(degrees=10),\n",
    "    # transforms.Pad(10),\n",
    "    transforms.CenterCrop((image_size,image_size)),\n",
    "    transforms.ToTensor(),\n",
    "    transforms.Normalize([0.5,0.5,0.5],[0.5,0.5,0.5])\n",
    "])\n",
    "\n",
    "test_transform = transforms.Compose([\n",
    "    # transforms.Resize((image_size,image_size)),\n",
    "    transforms.CenterCrop((image_size,image_size)),\n",
    "    transforms.ToTensor(),\n",
    "    transforms.Normalize([0.5,0.5,0.5],[0.5,0.5,0.5])\n",
    "])\n",
    "\n",
    "\n",
    "CC_train = datasets.ImageFolder(\"CC/Train\", transform=train_transform)\n",
    "CC_valid = datasets.ImageFolder(\"CC/Valid\", transform=test_transform)\n",
    "CC_test = datasets.ImageFolder(\"CC/Test\", transform=test_transform)\n",
    "\n",
    "MLO_train = datasets.ImageFolder(\"MLO/Train\", transform=train_transform)\n",
    "MLO_valid = datasets.ImageFolder(\"MLO/Valid\", transform=test_transform)\n",
    "MLO_test = datasets.ImageFolder(\"MLO/Test\", transform=test_transform)\n",
    "\n",
    "train_annotations = []\n",
    "valid_annotations = []\n",
    "test_annotations = []\n",
    "with open(\"annotation.csv\", newline='') as f:\n",
    "    rows = list(csv.reader(f, delimiter = ','))\n",
    "    annotation_data = pd.DataFrame(rows[1:], columns=rows[0])\n",
    "\n",
    "for i in range(len(CC_train)):\n",
    "    image_CC = CC_train.imgs[i][0]\n",
    "\n",
    "    information_CC = image_CC.split(\"\\\\\")[-1].split(\"_\")\n",
    "    PID_CC = information_CC[0]\n",
    "    L_R_CC = information_CC[1]\n",
    "    \n",
    "    annotation_CC = annotation_data.loc[ (annotation_data[\"PID\"] == PID_CC) & (annotation_data[\"L_R\"] == L_R_CC)]\n",
    "    annotation_CC = annotation_CC.drop(['PID', 'L_R', 'position'], axis=1)\n",
    "        \n",
    "    annota = annotation_CC.values[0]\n",
    "    train_annotations.append([int (annota[0]), int (annota[1]), int (annota[2]), int (annota[3])])\n",
    "\n",
    "for i in range(len(CC_valid)):\n",
    "    image_CC = CC_valid.imgs[i][0]\n",
    "\n",
    "    information_CC = image_CC.split(\"\\\\\")[-1].split(\"_\")\n",
    "    PID_CC = information_CC[0]\n",
    "    L_R_CC = information_CC[1]\n",
    "    \n",
    "    annotation_CC = annotation_data.loc[ (annotation_data[\"PID\"] == PID_CC) & (annotation_data[\"L_R\"] == L_R_CC)]\n",
    "    annotation_CC = annotation_CC.drop(['PID', 'L_R', 'position'], axis=1)\n",
    "\n",
    "    annota = annotation_CC.values[0]\n",
    "    valid_annotations.append([int (annota[0]), int (annota[1]), int (annota[2]), int (annota[3])])\n",
    "\n",
    "for i in range(len(CC_test)):\n",
    "    image_CC = CC_test.imgs[i][0]\n",
    "\n",
    "    information_CC = image_CC.split(\"\\\\\")[-1].split(\"_\")\n",
    "    PID_CC = information_CC[0]\n",
    "    L_R_CC = information_CC[1]\n",
    "    \n",
    "    annotation_CC = annotation_data.loc[ (annotation_data[\"PID\"] == PID_CC) & (annotation_data[\"L_R\"] == L_R_CC)]\n",
    "    annotation_CC = annotation_CC.drop(['PID', 'L_R', 'position'], axis=1)\n",
    "        \n",
    "    annota = annotation_CC.values[0]\n",
    "    test_annotations.append([int (annota[0]), int (annota[1]), int (annota[2]), int (annota[3])])"
   ]
  },
  {
   "cell_type": "code",
   "execution_count": 3,
   "metadata": {},
   "outputs": [],
   "source": [
    "batch_size = 12"
   ]
  },
  {
   "cell_type": "code",
   "execution_count": 4,
   "metadata": {},
   "outputs": [],
   "source": [
    "class Resnet_annotation(nn.Module):\n",
    "    def __init__(self, resnetCC, resnetMLO):\n",
    "        super(Resnet_annotation, self).__init__()\n",
    "        self.resnetCC = resnetCC\n",
    "        self.resnetMLO = resnetMLO\n",
    "        self.CC = nn.Linear(1000, 2)\n",
    "        self.MLO = nn.Linear(1000, 2)\n",
    "        self.classifier = nn.Linear(2000 + 4, 2)\n",
    "    def forward(self, CC, MLO, annotation):\n",
    "        CC = self.resnetCC(CC)\n",
    "        MLO = self.resnetMLO(MLO)\n",
    "        x = torch.cat((CC, MLO, annotation), dim=1)\n",
    "        x = self.classifier(F.relu(x))\n",
    "        return x"
   ]
  },
  {
   "cell_type": "code",
   "execution_count": 5,
   "metadata": {},
   "outputs": [],
   "source": [
    "device = torch.device(\"cuda\" if torch.cuda.is_available() else \"cpu\")\n",
    "resnet = Resnet_annotation(models.resnet18(pretrained = True), models.resnet18(pretrained = True))\n",
    "resnet = resnet.cuda() if device else resnet"
   ]
  },
  {
   "cell_type": "code",
   "execution_count": 6,
   "metadata": {},
   "outputs": [],
   "source": [
    "learning_rate = 0.001\n",
    "momentum = 0.9\n",
    "criterion = nn.CrossEntropyLoss()\n",
    "optimizer = optim.SGD(resnet.parameters(), lr=learning_rate, momentum=momentum)\n",
    "# optimizer = optim.Adam(resnet.parameters(), lr = learning_rate)"
   ]
  },
  {
   "cell_type": "code",
   "execution_count": 7,
   "metadata": {},
   "outputs": [],
   "source": [
    "n_epochs = 10\n",
    "early_stop = 0.01\n",
    "print_every = 100\n",
    "valid_loss_min = np.inf\n",
    "last_auc = -1\n",
    "val_loss = []\n",
    "val_acc = []\n",
    "train_loss = []\n",
    "train_acc = []\n",
    "if (len(CC_train) % batch_size == 0):\n",
    "    batch_num = int(len(CC_train) / batch_size)\n",
    "else:\n",
    "    batch_num = int(len(CC_train) / batch_size)+ 1\n"
   ]
  },
  {
   "cell_type": "code",
   "execution_count": 8,
   "metadata": {},
   "outputs": [],
   "source": [
    "zero_count = int (0.5 * batch_size)\n",
    "one_count =  batch_size - zero_count"
   ]
  },
  {
   "cell_type": "code",
   "execution_count": 9,
   "metadata": {},
   "outputs": [],
   "source": [
    "zeros = [x for x in range(len(CC_train.targets)) if CC_train.targets[x] == 0]\n",
    "ones = [x for x in range(len(CC_train.targets)) if CC_train.targets[x] == 1]\n",
    "zeros = random.sample(zeros, len(zeros))\n",
    "ones = random.sample(ones, len(ones))\n",
    "\n",
    "loop_zero = 0\n",
    "loop_one = 0\n",
    "indices = []\n",
    "rs = random.sample(range(len(CC_train)), len(CC_train))\n",
    "for batch_ID in range(batch_num):\n",
    "    if ((batch_ID+1)*batch_size <= len(CC_train)):\n",
    "        indices.append(rs[batch_ID*batch_size : (batch_ID+1)*batch_size])\n",
    "    else:\n",
    "        indices.append(rs[batch_ID*batch_size :] + rs[:((batch_ID+1)*batch_size) % batch_size])"
   ]
  },
  {
   "cell_type": "code",
   "execution_count": 10,
   "metadata": {},
   "outputs": [
    {
     "name": "stdout",
     "output_type": "stream",
     "text": [
      "Epoch [1/10], Step [100/103], Loss: 0.5906\n",
      "\n",
      "train-loss: 0.9140, train-acc: 58.7379\n",
      "validation loss: 1.1167, validation acc: 72.2222 AUC: 0.5476190476190477\n",
      "Improvement-Detected, save-model\n",
      "Epoch [2/10], Step [100/103], Loss: 0.2966\n",
      "\n",
      "train-loss: 0.7390, train-acc: 76.2136\n",
      "validation loss: 1.1688, validation acc: 70.0000 AUC: 0.5846560846560847\n",
      "Improvement-Detected, save-model\n",
      "Epoch [3/10], Step [100/103], Loss: 0.0629\n",
      "\n",
      "train-loss: 0.6214, train-acc: 84.5469\n",
      "validation loss: 1.1612, validation acc: 73.3333 AUC: 0.6402116402116402\n",
      "Improvement-Detected, save-model\n",
      "Epoch [4/10], Step [100/103], Loss: 0.0058\n",
      "\n",
      "train-loss: 0.5312, train-acc: 89.4013\n",
      "validation loss: 1.1914, validation acc: 67.7778 AUC: 0.537037037037037\n",
      "Epoch [5/10], Step [100/103], Loss: 0.0302\n",
      "\n",
      "train-loss: 0.4519, train-acc: 94.6602\n",
      "validation loss: 1.2324, validation acc: 62.2222 AUC: 0.6031746031746033\n",
      "Epoch [6/10], Step [100/103], Loss: 0.0079\n",
      "\n",
      "train-loss: 0.3933, train-acc: 96.2783\n",
      "validation loss: 1.2406, validation acc: 72.2222 AUC: 0.716931216931217\n",
      "Improvement-Detected, save-model\n",
      "Epoch [7/10], Step [100/103], Loss: 0.0074\n",
      "\n",
      "train-loss: 0.3478, train-acc: 97.0874\n",
      "validation loss: 1.2490, validation acc: 67.7778 AUC: 0.5899470899470899\n",
      "Epoch [8/10], Step [100/103], Loss: 0.0009\n",
      "\n",
      "train-loss: 0.3095, train-acc: 98.3819\n",
      "validation loss: 1.2964, validation acc: 68.8889 AUC: 0.5555555555555556\n",
      "Epoch [9/10], Step [100/103], Loss: 0.0029\n",
      "\n",
      "train-loss: 0.2781, train-acc: 99.0291\n",
      "validation loss: 1.3455, validation acc: 73.3333 AUC: 0.5873015873015872\n"
     ]
    }
   ],
   "source": [
    "for epoch in range(1, n_epochs):\n",
    "    # train\n",
    "    running_loss = 0.0\n",
    "    correct = 0\n",
    "    total = 0\n",
    "    for batch_ID in range(batch_num):\n",
    "        batch_index = indices[batch_ID]\n",
    "        \n",
    "        CC_image = torch.Tensor([])\n",
    "        MLO_image = torch.Tensor([])\n",
    "        label = torch.Tensor([])\n",
    "        annotation = torch.Tensor([])\n",
    "        for i in batch_index:\n",
    "            CC_image = torch.cat([CC_image, CC_train[i][0]], dim=0)\n",
    "            MLO_image = torch.cat([MLO_image, MLO_train[i][0]], dim=0)\n",
    "            label = torch.cat([label, torch.Tensor([CC_train[i][1]])], dim=0)\n",
    "            annotation = torch.cat([annotation, torch.Tensor(train_annotations[i])])\n",
    "        CC_image = CC_image.reshape((batch_size, 3, image_size, image_size)).to(device)\n",
    "        MLO_image = MLO_image.reshape((batch_size, 3, image_size, image_size)).to(device)\n",
    "        label = label.to(device).long()\n",
    "        annotation = annotation.reshape((batch_size, 4)).to(device)\n",
    "\n",
    "        optimizer.zero_grad()\n",
    "        train_predict = resnet(CC_image, MLO_image, annotation)\n",
    "        loss = criterion(train_predict,label)\n",
    "        loss.backward()\n",
    "        optimizer.step()\n",
    "\n",
    "        running_loss += loss.item()\n",
    "        _, train_prediction = torch.max(train_predict, dim=1)\n",
    "        correct += torch.sum(train_prediction == label).item()\n",
    "        total += label.size(0)\n",
    "        if (batch_ID) % print_every == 0 and batch_ID != 0:\n",
    "            print ('Epoch [{}/{}], Step [{}/{}], Loss: {:.4f}' \n",
    "                .format(epoch, n_epochs, batch_ID, batch_num, loss.item()))\n",
    "    train_acc.append(100 * correct / total)\n",
    "    train_loss.append(running_loss / batch_num)\n",
    "    print(f'\\ntrain-loss: {np.mean(train_loss):.4f}, train-acc: {(100 * correct/total):.4f}')\n",
    "\n",
    "    # validation\n",
    "    batch_loss = 0.0\n",
    "    total_t=0\n",
    "    correct_t=0\n",
    "\n",
    "    predict = torch.Tensor([])\n",
    "    label = torch.Tensor([])\n",
    "    with torch.no_grad():\n",
    "        resnet.eval()\n",
    "        for i in range(len(CC_valid)):\n",
    "            CC_valid_image = CC_valid[i][0].to(device).unsqueeze(0)\n",
    "            MLO_valid_image = MLO_valid[i][0].to(device).unsqueeze(0)\n",
    "            valid_label = torch.Tensor([[CC_valid[i][1]]]).to(device).long()\n",
    "            valid_annotation = torch.Tensor([valid_annotations[i]]).to(device)\n",
    "            \n",
    "            valid_predict = resnet(CC_valid_image, MLO_valid_image, valid_annotation) \n",
    "            valid_loss = criterion(valid_predict, valid_label[0])\n",
    "            \n",
    "            batch_loss += valid_loss.item()\n",
    "            \n",
    "            _, valid_prediction = torch.max(valid_predict, dim=1)\n",
    "            correct_t += torch.sum(valid_prediction == valid_label).item()\n",
    "            total_t += valid_label.size(0)\n",
    "\n",
    "            predict = torch.cat([predict, valid_prediction.cpu()])\n",
    "            label = torch.cat([label, valid_label.cpu()])\n",
    "            \n",
    "    auc = roc_auc_score(label.numpy(), predict.numpy())\n",
    "    val_acc.append(100 * correct_t/total_t)\n",
    "    val_loss.append(batch_loss/len(CC_valid))\n",
    "    print(f'validation loss: {np.mean(val_loss):.4f}, validation acc: {(100 * correct_t/total_t):.4f}', \"AUC:\", auc)\n",
    "    \n",
    "    # network_learned = batch_loss < valid_loss_min\n",
    "    network_learned = auc > last_auc\n",
    "    if network_learned:\n",
    "        # valid_loss_min = batch_loss\n",
    "        last_auc = auc\n",
    "        torch.save(resnet.state_dict(), 'resnet_annotation.pt')\n",
    "        print('Improvement-Detected, save-model')\n",
    "    resnet.train()\n",
    "        "
   ]
  },
  {
   "cell_type": "code",
   "execution_count": 11,
   "metadata": {},
   "outputs": [
    {
     "data": {
      "text/plain": [
       "<All keys matched successfully>"
      ]
     },
     "execution_count": 11,
     "metadata": {},
     "output_type": "execute_result"
    }
   ],
   "source": [
    "final_model = Resnet_annotation(models.resnet18(pretrained = False), models.resnet18(pretrained = False))\n",
    "final_model.load_state_dict(torch.load(\"resnet_annotation.pt\"))"
   ]
  },
  {
   "cell_type": "code",
   "execution_count": 12,
   "metadata": {},
   "outputs": [],
   "source": [
    "with torch.no_grad():\n",
    "    # validation\n",
    "    batch_loss = 0.0\n",
    "    total_t=0\n",
    "    correct_t=0\n",
    "\n",
    "    predict = torch.Tensor([])\n",
    "    label = torch.Tensor([])\n",
    "    with torch.no_grad():\n",
    "        resnet.eval()\n",
    "        for i in range(len(CC_test)):\n",
    "            CC_test_image = CC_test[i][0].to(device).unsqueeze(0)\n",
    "            MLO_test_image = MLO_test[i][0].to(device).unsqueeze(0)\n",
    "            test_label = torch.Tensor([CC_test[i][1]]).to(device).long()\n",
    "            test_annotation = torch.Tensor([test_annotations[i]]).to(device)\n",
    "            \n",
    "            test_predict = resnet(CC_test_image, MLO_test_image, test_annotation) \n",
    "            test_loss = criterion(test_predict, test_label)\n",
    "            \n",
    "            batch_loss += test_loss.item()\n",
    "            \n",
    "            ind, test_prediction = torch.max(test_predict, dim=1)\n",
    "            # print(ind)\n",
    "            correct_t += torch.sum(test_prediction == test_label).item()\n",
    "            total_t += test_label.size(0)\n",
    "\n",
    "            predict = torch.cat([predict, test_prediction.cpu()])\n",
    "            label = torch.cat([label, test_label.cpu()])\n",
    "        # print(label)\n",
    "        # print(predict)\n",
    "        \n",
    "    auc_t = roc_auc_score(label.cpu().numpy(), predict.cpu().numpy())\n",
    "    TP = np.sum(np.logical_and(label.cpu().numpy() == 1, predict.cpu().numpy() == 1))\n",
    "    TN = np.sum(np.logical_and(label.cpu().numpy() == 0, predict.cpu().numpy() == 0))\n",
    "    FP = np.sum(np.logical_and(label.cpu().numpy() == 0, predict.cpu().numpy() == 1))\n",
    "    FN = np.sum(np.logical_and(label.cpu().numpy() == 1, predict.cpu().numpy() == 0))\n",
    "    \n",
    "   "
   ]
  },
  {
   "cell_type": "code",
   "execution_count": 13,
   "metadata": {},
   "outputs": [
    {
     "name": "stdout",
     "output_type": "stream",
     "text": [
      "test accuracy: 0.801980198019802 test auc: 0.6110471806674338\n",
      "TP 0.0594059405940594\n",
      "TN 0.7425742574257426\n",
      "FP 0.039603960396039604\n",
      "FN 0.15841584158415842\n"
     ]
    }
   ],
   "source": [
    "print(\"test accuracy:\", correct_t / total_t, \"test auc:\", auc_t)\n",
    "print(\"TP\", TP / len(predict))\n",
    "print(\"TN\", TN / len(predict))\n",
    "print(\"FP\", FP / len(predict))\n",
    "print(\"FN\", FN / len(predict))\n",
    "    "
   ]
  },
  {
   "cell_type": "code",
   "execution_count": 14,
   "metadata": {},
   "outputs": [
    {
     "data": {
      "text/plain": [
       "[<matplotlib.lines.Line2D at 0x17e9d503520>]"
      ]
     },
     "execution_count": 14,
     "metadata": {},
     "output_type": "execute_result"
    },
    {
     "data": {
      "image/png": "[encoded data removed]",
      "text/plain": [
       "<Figure size 432x288 with 1 Axes>"
      ]
     },
     "metadata": {
      "needs_background": "light"
     },
     "output_type": "display_data"
    }
   ],
   "source": [
    "plt.plot(train_acc)\n",
    "plt.plot(val_acc)"
   ]
  },
  {
   "cell_type": "code",
   "execution_count": 15,
   "metadata": {},
   "outputs": [
    {
     "data": {
      "text/plain": [
       "[<matplotlib.lines.Line2D at 0x17eb128cd30>]"
      ]
     },
     "execution_count": 15,
     "metadata": {},
     "output_type": "execute_result"
    },
    {
     "data": {
      "image/png": "[encoded data removed]",
      "text/plain": [
       "<Figure size 432x288 with 1 Axes>"
      ]
     },
     "metadata": {
      "needs_background": "light"
     },
     "output_type": "display_data"
    }
   ],
   "source": [
    "plt.plot(train_loss)\n",
    "plt.plot(val_loss)"
   ]
  }
 ],
 "metadata": {
  "interpreter": {
   "hash": "87ada18c8143aaffc091dec8c8b00526d28a5d86df430486a4dcae7e28527728"
  },
  "kernelspec": {
   "display_name": "Python 3.8.12 ('base')",
   "language": "python",
   "name": "python3"
  },
  "language_info": {
   "codemirror_mode": {
    "name": "ipython",
    "version": 3
   },
   "file_extension": ".py",
   "mimetype": "text/x-python",
   "name": "python",
   "nbconvert_exporter": "python",
   "pygments_lexer": "ipython3",
   "version": "3.8.12"
  },
  "orig_nbformat": 4
 },
 "nbformat": 4,
 "nbformat_minor": 2
}
